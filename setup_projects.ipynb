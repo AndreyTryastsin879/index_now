{
 "cells": [
  {
   "cell_type": "code",
   "execution_count": 1,
   "metadata": {},
   "outputs": [],
   "source": [
    "import requests\n",
    "import json\n",
    "import re\n",
    "import secrets\n",
    "import os\n",
    "\n",
    "import pandas as pd\n",
    "import numpy as np\n",
    "\n",
    "from openpyxl import load_workbook"
   ]
  },
  {
   "cell_type": "code",
   "execution_count": 2,
   "metadata": {},
   "outputs": [],
   "source": [
    "PROJECT_SETTINGS_PATH = 'settings.xlsx'"
   ]
  },
  {
   "cell_type": "code",
   "execution_count": 3,
   "metadata": {},
   "outputs": [],
   "source": [
    "FOLDERS_PATH = '{}'"
   ]
  },
  {
   "cell_type": "markdown",
   "metadata": {},
   "source": [
    "## Получение списка проектов из Settings.xlsx"
   ]
  },
  {
   "cell_type": "markdown",
   "metadata": {},
   "source": [
    "### Одна карта"
   ]
  },
  {
   "cell_type": "code",
   "execution_count": 4,
   "metadata": {},
   "outputs": [],
   "source": [
    "def get_projects_with_one_map():\n",
    "    return pd.read_excel(PROJECT_SETTINGS_PATH)"
   ]
  },
  {
   "cell_type": "markdown",
   "metadata": {},
   "source": [
    "### Мультикарта"
   ]
  },
  {
   "cell_type": "code",
   "execution_count": 5,
   "metadata": {},
   "outputs": [],
   "source": [
    "def get_projects_with_many_maps():\n",
    "    return pd.read_excel(PROJECT_SETTINGS_PATH, sheet_name = 'many_maps')"
   ]
  },
  {
   "cell_type": "markdown",
   "metadata": {},
   "source": [
    "### Экспорт новых данных на определенный лист в Settings.xlsx"
   ]
  },
  {
   "cell_type": "code",
   "execution_count": 6,
   "metadata": {},
   "outputs": [],
   "source": [
    "def export_data_to_specified_sheet(data, export_sheet_name):\n",
    "    with pd.ExcelWriter(PROJECT_SETTINGS_PATH, engine='openpyxl', mode='a', if_sheet_exists='replace') as writer:\n",
    "        data.to_excel(writer, export_sheet_name, index=False)"
   ]
  },
  {
   "cell_type": "markdown",
   "metadata": {},
   "source": [
    "## Генерация ключей и запись в таблицу"
   ]
  },
  {
   "cell_type": "code",
   "execution_count": 7,
   "metadata": {},
   "outputs": [],
   "source": [
    "def create_private_key_and_export_settings_xlsx(project_settings, export_sheet_name):\n",
    "    for row in project_settings:\n",
    "        row['key'] = secrets.token_hex(64)\n",
    "        \n",
    "    updated_project_settings = pd.DataFrame.from_dict(project_settings)\n",
    "    \n",
    "    export_data_to_specified_sheet(updated_project_settings, export_sheet_name)\n",
    "    \n",
    "    "
   ]
  },
  {
   "cell_type": "markdown",
   "metadata": {},
   "source": [
    "## Создание папок"
   ]
  },
  {
   "cell_type": "code",
   "execution_count": 8,
   "metadata": {},
   "outputs": [],
   "source": [
    "def create_folders(project_settings):\n",
    "    for row in project_settings:\n",
    "        os.makedirs(FOLDERS_PATH.format(row['project']),exist_ok=True)"
   ]
  },
  {
   "cell_type": "markdown",
   "metadata": {},
   "source": [
    "## Создание txt с ключами"
   ]
  },
  {
   "cell_type": "code",
   "execution_count": 9,
   "metadata": {},
   "outputs": [],
   "source": [
    "def create_private_key_txt(project_name, project_txt_name, key):\n",
    "    with open(os.path.join(FOLDERS_PATH.format(project_name), f'{project_txt_name}_private_key_indexnow.txt'), 'w') as f:\n",
    "            f.write(key)"
   ]
  },
  {
   "cell_type": "markdown",
   "metadata": {},
   "source": [
    "## Подготовка пустой CSV базы"
   ]
  },
  {
   "cell_type": "code",
   "execution_count": 10,
   "metadata": {},
   "outputs": [],
   "source": [
    "def create_empty_csv_base(project_folder, project_csv_name):\n",
    "    data = {\n",
    "    'url':np.nan,\n",
    "    'status':np.nan,\n",
    "    }\n",
    "    \n",
    "    base = pd.DataFrame(data, index=[0])\n",
    "    base.to_csv(f'{project_folder}/{project_csv_name}_url_base_indexnow.csv',index=False)"
   ]
  },
  {
   "cell_type": "markdown",
   "metadata": {},
   "source": [
    "## Главная функция - генерация ключей, создание папок, txt и csv файлов"
   ]
  },
  {
   "cell_type": "code",
   "execution_count": 11,
   "metadata": {},
   "outputs": [],
   "source": [
    "def set_up_projects_first_time_main():\n",
    "    #one_map\n",
    "    project_settings = get_projects_with_one_map().to_dict('record')\n",
    "    create_private_key_and_export_settings_xlsx(project_settings,'one_map')\n",
    "    create_folders(project_settings)\n",
    "    \n",
    "    project_settings = get_projects_with_one_map().to_dict('record')\n",
    "    for row in project_settings:\n",
    "        project, key = row['project'], row['key']\n",
    "        create_private_key_txt(project, project, key)\n",
    "        create_empty_csv_base(project, project)\n",
    "    \n",
    "    #many_maps\n",
    "    project_settings = get_projects_with_many_maps().to_dict('record')\n",
    "    create_private_key_and_export_settings_xlsx(project_settings,'many_maps')\n",
    "    create_folders(project_settings)\n",
    "    \n",
    "    project_settings = get_projects_with_many_maps().to_dict('record')\n",
    "    for row in project_settings:\n",
    "        project, key = row['project'], row['key']\n",
    "        create_private_key_txt(project, project, key)\n",
    "        create_empty_csv_base(project, project)\n"
   ]
  },
  {
   "cell_type": "markdown",
   "metadata": {},
   "source": [
    "## Запуск"
   ]
  },
  {
   "cell_type": "code",
   "execution_count": 12,
   "metadata": {},
   "outputs": [
    {
     "name": "stderr",
     "output_type": "stream",
     "text": [
      "/Users/andreytryastsin/opt/anaconda3/lib/python3.7/site-packages/ipykernel_launcher.py:3: FutureWarning: Using short name for 'orient' is deprecated. Only the options: ('dict', list, 'series', 'split', 'records', 'index') will be used in a future version. Use one of the above to silence this warning.\n",
      "  This is separate from the ipykernel package so we can avoid doing imports until\n",
      "/Users/andreytryastsin/opt/anaconda3/lib/python3.7/site-packages/ipykernel_launcher.py:7: FutureWarning: Using short name for 'orient' is deprecated. Only the options: ('dict', list, 'series', 'split', 'records', 'index') will be used in a future version. Use one of the above to silence this warning.\n",
      "  import sys\n",
      "/Users/andreytryastsin/opt/anaconda3/lib/python3.7/site-packages/ipykernel_launcher.py:14: FutureWarning: Using short name for 'orient' is deprecated. Only the options: ('dict', list, 'series', 'split', 'records', 'index') will be used in a future version. Use one of the above to silence this warning.\n",
      "  \n",
      "/Users/andreytryastsin/opt/anaconda3/lib/python3.7/site-packages/ipykernel_launcher.py:18: FutureWarning: Using short name for 'orient' is deprecated. Only the options: ('dict', list, 'series', 'split', 'records', 'index') will be used in a future version. Use one of the above to silence this warning.\n"
     ]
    }
   ],
   "source": [
    "set_up_projects_first_time_main()"
   ]
  },
  {
   "cell_type": "markdown",
   "metadata": {},
   "source": [
    "## Дополнение базы поддоменами из Яндекс Вебмастера"
   ]
  },
  {
   "cell_type": "markdown",
   "metadata": {},
   "source": [
    "### Токен и URL"
   ]
  },
  {
   "cell_type": "code",
   "execution_count": 13,
   "metadata": {},
   "outputs": [],
   "source": [
    "TOKEN = 'Ваш токен'\n",
    "\n",
    "USERID_URL = 'https://api.webmaster.yandex.net/v4/user'\n",
    "GET_SITE_LIST = 'https://api.webmaster.yandex.net/v4/user/{}/hosts'"
   ]
  },
  {
   "cell_type": "markdown",
   "metadata": {},
   "source": [
    "### Авторизация"
   ]
  },
  {
   "cell_type": "code",
   "execution_count": 14,
   "metadata": {},
   "outputs": [],
   "source": [
    "def get_auth_headers() -> dict:\n",
    "    return {'Authorization': f'OAuth {TOKEN}'}"
   ]
  },
  {
   "cell_type": "markdown",
   "metadata": {},
   "source": [
    "### Получение User ID"
   ]
  },
  {
   "cell_type": "code",
   "execution_count": 15,
   "metadata": {},
   "outputs": [],
   "source": [
    "def get_user_id() -> str:\n",
    "    r = requests.get(USERID_URL, headers=get_auth_headers())\n",
    "    user_id = json.loads(r.text)['user_id']\n",
    "    return user_id"
   ]
  },
  {
   "cell_type": "markdown",
   "metadata": {},
   "source": [
    "### Получение списка хостов по каждому проекту из Settings\n",
    "#### Пример написания хоста https:site.ru:443"
   ]
  },
  {
   "cell_type": "code",
   "execution_count": 16,
   "metadata": {},
   "outputs": [],
   "source": [
    "def request_yandex_webmaster(user_id, project):\n",
    "    request = requests.get(GET_SITE_LIST.format(user_id), headers=get_auth_headers())\n",
    "    site_list = json.loads(request.text)\n",
    "    \n",
    "    project_subdomains_hosts = []\n",
    "    for number in range(len(site_list['hosts'])):\n",
    "        regex = re.search(f'.*{project}.*', site_list['hosts'][number]['host_id'])\n",
    "        \n",
    "        if regex:\n",
    "            project_subdomains_hosts.append(regex.group())\n",
    "    \n",
    "    return project_subdomains_hosts"
   ]
  },
  {
   "cell_type": "markdown",
   "metadata": {},
   "source": [
    "### Извлечение поддоменов из хостов"
   ]
  },
  {
   "cell_type": "code",
   "execution_count": 17,
   "metadata": {},
   "outputs": [],
   "source": [
    "def extract_subdomains_from_hosts(project_subdomains_hosts):\n",
    "    project_subdomains_list = []\n",
    "    for domain in project_subdomains_hosts:\n",
    "        project_subdomains_list.append(domain.split(':')[1])\n",
    "        \n",
    "    return project_subdomains_list"
   ]
  },
  {
   "cell_type": "markdown",
   "metadata": {},
   "source": [
    "### Добавление поддоменов в Settings"
   ]
  },
  {
   "cell_type": "code",
   "execution_count": 18,
   "metadata": {},
   "outputs": [],
   "source": [
    "def add_subdomains_to_settings(project_settings, project_subdomains_list, export_sheet_name):\n",
    "    list_of_dicts = []\n",
    "    \n",
    "    for domain in project_subdomains_list:\n",
    "        new_dict = {}\n",
    "        new_dict['project'] = domain\n",
    "        new_dict['domain_type'] = 'subdomain'\n",
    "        new_dict['main_domain_name'] = domain.split('.', 1)[1]\n",
    "        list_of_dicts.append(new_dict)\n",
    "        \n",
    "    for element in list_of_dicts:\n",
    "        project_settings.append(element)\n",
    "    \n",
    "    updated_project_settings = pd.DataFrame.from_dict(project_settings)\n",
    "    \n",
    "    updated_project_settings.drop_duplicates(subset=['project'], inplace=True)\n",
    "    \n",
    "    export_data_to_specified_sheet(updated_project_settings, export_sheet_name)"
   ]
  },
  {
   "cell_type": "code",
   "execution_count": 19,
   "metadata": {},
   "outputs": [],
   "source": [
    "def get_subdomains_from_webmaster_update_settings(user_id, project_settings, project_settings_slice, export_sheet_name):\n",
    "    for row in project_settings_slice:\n",
    "        project = row['project']\n",
    "        \n",
    "        project_subdomains_hosts = request_yandex_webmaster(user_id, project)\n",
    "        project_subdomains_list = extract_subdomains_from_hosts(project_subdomains_hosts)\n",
    "        \n",
    "        add_subdomains_to_settings(project_settings, project_subdomains_list, export_sheet_name)\n",
    "        "
   ]
  },
  {
   "cell_type": "markdown",
   "metadata": {},
   "source": [
    "### Главная функция получение поддоменов из Яндекс Вебмастера и добавление в Settings"
   ]
  },
  {
   "cell_type": "code",
   "execution_count": 20,
   "metadata": {},
   "outputs": [],
   "source": [
    "def update_settings_with_subdomains_main():\n",
    "    user_id = get_user_id()\n",
    "    \n",
    "    #one_map\n",
    "    projects_one_map = get_projects_with_one_map()\n",
    "    projects_one_map_slice = projects_one_map[projects_one_map['domain_type'] == 'main'].to_dict('record')\n",
    "    \n",
    "    projects_one_map = projects_one_map.to_dict('record')\n",
    "    get_subdomains_from_webmaster_update_settings(user_id, projects_one_map, projects_one_map_slice, 'one_map')\n",
    "    \n",
    "    #many_maps\n",
    "    projects_many_maps = get_projects_with_many_maps()\n",
    "    projects_many_maps_slice = projects_many_maps[projects_many_maps['domain_type'] == 'main'].to_dict('record')\n",
    "    \n",
    "    projects_many_maps = projects_many_maps.to_dict('record')\n",
    "    get_subdomains_from_webmaster_update_settings(user_id, projects_many_maps, projects_many_maps_slice, 'many_maps')"
   ]
  },
  {
   "cell_type": "markdown",
   "metadata": {},
   "source": [
    "## Запуск"
   ]
  },
  {
   "cell_type": "code",
   "execution_count": 21,
   "metadata": {
    "scrolled": true
   },
   "outputs": [
    {
     "name": "stderr",
     "output_type": "stream",
     "text": [
      "/Users/andreytryastsin/opt/anaconda3/lib/python3.7/site-packages/ipykernel_launcher.py:6: FutureWarning: Using short name for 'orient' is deprecated. Only the options: ('dict', list, 'series', 'split', 'records', 'index') will be used in a future version. Use one of the above to silence this warning.\n",
      "  \n",
      "/Users/andreytryastsin/opt/anaconda3/lib/python3.7/site-packages/ipykernel_launcher.py:8: FutureWarning: Using short name for 'orient' is deprecated. Only the options: ('dict', list, 'series', 'split', 'records', 'index') will be used in a future version. Use one of the above to silence this warning.\n",
      "  \n",
      "/Users/andreytryastsin/opt/anaconda3/lib/python3.7/site-packages/ipykernel_launcher.py:13: FutureWarning: Using short name for 'orient' is deprecated. Only the options: ('dict', list, 'series', 'split', 'records', 'index') will be used in a future version. Use one of the above to silence this warning.\n",
      "  del sys.path[0]\n",
      "/Users/andreytryastsin/opt/anaconda3/lib/python3.7/site-packages/ipykernel_launcher.py:15: FutureWarning: Using short name for 'orient' is deprecated. Only the options: ('dict', list, 'series', 'split', 'records', 'index') will be used in a future version. Use one of the above to silence this warning.\n",
      "  from ipykernel import kernelapp as app\n"
     ]
    }
   ],
   "source": [
    "update_settings_with_subdomains_main()"
   ]
  },
  {
   "cell_type": "markdown",
   "metadata": {},
   "source": [
    "## Создание ключей для поддоменов"
   ]
  },
  {
   "cell_type": "markdown",
   "metadata": {},
   "source": [
    "### Создание ключей и запись в таблицу"
   ]
  },
  {
   "cell_type": "code",
   "execution_count": 22,
   "metadata": {},
   "outputs": [],
   "source": [
    "def replace_empty_key_value_in_settings(project_settings, sheet_name):\n",
    "    project_settings = project_settings.to_dict('record')\n",
    "\n",
    "    for row in project_settings:\n",
    "        if type(row['key']) != str:\n",
    "            row['key'] = secrets.token_hex(64)\n",
    "\n",
    "    projects_subdomain_with_keys = pd.DataFrame.from_dict(project_settings)\n",
    "    export_data_to_specified_sheet(projects_subdomain_with_keys, sheet_name)"
   ]
  },
  {
   "cell_type": "markdown",
   "metadata": {},
   "source": [
    "### Создание txt и добавление в папку по названию проекта"
   ]
  },
  {
   "cell_type": "code",
   "execution_count": 23,
   "metadata": {
    "scrolled": true
   },
   "outputs": [],
   "source": [
    "def create_txt(project_settings, projects_subdomains_without_key_list):\n",
    "    \n",
    "    projects_for_file_creating = project_settings[project_settings['project'].isin(projects_subdomains_without_key_list)]\n",
    "\n",
    "    projects_for_file_creating = projects_for_file_creating.to_dict('record')\n",
    "\n",
    "    for row in projects_for_file_creating:\n",
    "        subdomain, key, main_domain = row['project'], row['key'], row['main_domain_name']\n",
    "        create_private_key_txt(main_domain, subdomain, key)"
   ]
  },
  {
   "cell_type": "markdown",
   "metadata": {},
   "source": [
    "### Главная функция - создание ключей и добавление в таблицу, создание txt и добавление в папку"
   ]
  },
  {
   "cell_type": "code",
   "execution_count": 24,
   "metadata": {},
   "outputs": [],
   "source": [
    "def create_data_for_subdomains_main():\n",
    "    #one_map\n",
    "    projects_one_map = get_projects_with_one_map()\n",
    "    ##Список поддоменов без ключа\n",
    "    projects_subdomains_without_key_list = projects_one_map[projects_one_map['key'].isna()]['project'].to_list()\n",
    "    \n",
    "    replace_empty_key_value_in_settings(projects_one_map, 'one_map')\n",
    "    \n",
    "    projects_one_map = get_projects_with_one_map()\n",
    "    create_txt(projects_one_map, projects_subdomains_without_key_list)\n",
    "    \n",
    "    #many_maps\n",
    "    projects_many_maps = get_projects_with_many_maps()\n",
    "    #Список поддоменов без ключа\n",
    "    projects_subdomains_without_key_list = projects_many_maps[projects_many_maps['key'].isna()]['project'].to_list()\n",
    "    \n",
    "    replace_empty_key_value_in_settings(projects_many_maps, 'many_maps')\n",
    "    \n",
    "    projects_many_maps = get_projects_with_many_maps()\n",
    "    create_txt(projects_many_maps, projects_subdomains_without_key_list)"
   ]
  },
  {
   "cell_type": "markdown",
   "metadata": {},
   "source": [
    "## Запуск"
   ]
  },
  {
   "cell_type": "code",
   "execution_count": 25,
   "metadata": {},
   "outputs": [
    {
     "name": "stderr",
     "output_type": "stream",
     "text": [
      "/Users/andreytryastsin/opt/anaconda3/lib/python3.7/site-packages/ipykernel_launcher.py:2: FutureWarning: Using short name for 'orient' is deprecated. Only the options: ('dict', list, 'series', 'split', 'records', 'index') will be used in a future version. Use one of the above to silence this warning.\n",
      "  \n",
      "/Users/andreytryastsin/opt/anaconda3/lib/python3.7/site-packages/ipykernel_launcher.py:5: FutureWarning: Using short name for 'orient' is deprecated. Only the options: ('dict', list, 'series', 'split', 'records', 'index') will be used in a future version. Use one of the above to silence this warning.\n",
      "  \"\"\"\n"
     ]
    }
   ],
   "source": [
    "create_data_for_subdomains_main()"
   ]
  },
  {
   "cell_type": "code",
   "execution_count": null,
   "metadata": {},
   "outputs": [],
   "source": []
  },
  {
   "cell_type": "code",
   "execution_count": null,
   "metadata": {},
   "outputs": [],
   "source": []
  }
 ],
 "metadata": {
  "kernelspec": {
   "display_name": "Python 3",
   "language": "python",
   "name": "python3"
  },
  "language_info": {
   "codemirror_mode": {
    "name": "ipython",
    "version": 3
   },
   "file_extension": ".py",
   "mimetype": "text/x-python",
   "name": "python",
   "nbconvert_exporter": "python",
   "pygments_lexer": "ipython3",
   "version": "3.7.9"
  }
 },
 "nbformat": 4,
 "nbformat_minor": 4
}
