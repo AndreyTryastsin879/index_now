{
 "cells": [
  {
   "cell_type": "code",
   "execution_count": 1,
   "metadata": {},
   "outputs": [],
   "source": [
    "import time\n",
    "import requests\n",
    "import json\n",
    "import re\n",
    "import traceback\n",
    "\n",
    "import pandas as pd\n",
    "from bs4 import BeautifulSoup"
   ]
  },
  {
   "cell_type": "code",
   "execution_count": 2,
   "metadata": {},
   "outputs": [],
   "source": [
    "YANDEX_URL = 'https://yandex.com/indexnow'"
   ]
  },
  {
   "cell_type": "code",
   "execution_count": 3,
   "metadata": {},
   "outputs": [],
   "source": [
    "PROJECT_SETTINGS_PATH = 'settings.xlsx'"
   ]
  },
  {
   "cell_type": "code",
   "execution_count": 4,
   "metadata": {},
   "outputs": [],
   "source": [
    "PROJECT_CSV_BASE_PATH = '{}/{}_url_base_indexnow.csv'"
   ]
  },
  {
   "cell_type": "markdown",
   "metadata": {},
   "source": [
    "## Открывание Settings.xlsx"
   ]
  },
  {
   "cell_type": "markdown",
   "metadata": {},
   "source": [
    "### лист one map"
   ]
  },
  {
   "cell_type": "code",
   "execution_count": 5,
   "metadata": {
    "scrolled": true
   },
   "outputs": [],
   "source": [
    "def get_projects_with_one_map():\n",
    "    return pd.read_excel(PROJECT_SETTINGS_PATH)"
   ]
  },
  {
   "cell_type": "markdown",
   "metadata": {},
   "source": [
    "### лист many maps"
   ]
  },
  {
   "cell_type": "code",
   "execution_count": 6,
   "metadata": {},
   "outputs": [],
   "source": [
    "def get_projects_with_many_maps():\n",
    "    return pd.read_excel(PROJECT_SETTINGS_PATH, sheet_name = 'many_maps')"
   ]
  },
  {
   "cell_type": "markdown",
   "metadata": {},
   "source": [
    "## Отчет об ошибках"
   ]
  },
  {
   "cell_type": "code",
   "execution_count": 7,
   "metadata": {},
   "outputs": [],
   "source": [
    "def error_report():\n",
    "    print('Ошибка')\n",
    "    traceback.print_exc()"
   ]
  },
  {
   "cell_type": "markdown",
   "metadata": {},
   "source": [
    "## Парсинг Sitemap"
   ]
  },
  {
   "cell_type": "markdown",
   "metadata": {},
   "source": [
    "### Одна карта сайта"
   ]
  },
  {
   "cell_type": "code",
   "execution_count": 8,
   "metadata": {},
   "outputs": [],
   "source": [
    "def parse_project_with_one_map(project_sitemap):\n",
    "    try:\n",
    "        request = requests.get(project_sitemap)\n",
    "        soup = BeautifulSoup(request.text, 'xml')\n",
    "\n",
    "        sitemap_url_set = set()\n",
    "        for url in soup.find_all('loc'):\n",
    "            sitemap_url_set.add(url.text)\n",
    "\n",
    "        return sitemap_url_set\n",
    "    \n",
    "    except:\n",
    "        error_report()"
   ]
  },
  {
   "cell_type": "markdown",
   "metadata": {},
   "source": [
    "### Мультикарта"
   ]
  },
  {
   "cell_type": "code",
   "execution_count": 9,
   "metadata": {},
   "outputs": [],
   "source": [
    "def parse_project_with_many_maps(project_sitemap):\n",
    "    try:\n",
    "        request = requests.get(project_sitemap)\n",
    "\n",
    "        soup = BeautifulSoup(request.text, 'xml')\n",
    "\n",
    "        maps = [sitemap.text for sitemap in soup.find_all('loc')]\n",
    "\n",
    "        print(f'Количество карт: {len(maps)}')\n",
    "\n",
    "        sitemap_url_set = set()\n",
    "\n",
    "        i=0\n",
    "        for sitemap in maps:\n",
    "\n",
    "            i+=1\n",
    "\n",
    "            print(f'Карта №: {i}')\n",
    "\n",
    "            request = requests.get(sitemap)\n",
    "\n",
    "            print(sitemap, request.status_code)\n",
    "\n",
    "            soup = BeautifulSoup(request.text, 'xml')\n",
    "\n",
    "            soup_list = soup.find_all('loc')\n",
    "\n",
    "            print(f'Количество URL: {len(soup_list)}')\n",
    "\n",
    "            for url in soup.find_all('loc'):\n",
    "                sitemap_url_set.add(url.text)\n",
    "\n",
    "            print(f'Длина общего списка: {len(sitemap_url_set)} URL')\n",
    "\n",
    "            time.sleep(10)\n",
    "\n",
    "        return sitemap_url_set\n",
    "    \n",
    "    except:\n",
    "        error_report()"
   ]
  },
  {
   "cell_type": "markdown",
   "metadata": {},
   "source": [
    "## Актуализация CSV базы"
   ]
  },
  {
   "cell_type": "markdown",
   "metadata": {},
   "source": [
    "### Открытие csv файла"
   ]
  },
  {
   "cell_type": "code",
   "execution_count": 10,
   "metadata": {},
   "outputs": [],
   "source": [
    "def open_project_csv_base(project_path, project_name):\n",
    "    try:\n",
    "        return pd.read_csv(PROJECT_CSV_BASE_PATH.format(project_path, project_name)).dropna().to_dict('record')\n",
    "    except:\n",
    "        error_report()"
   ]
  },
  {
   "cell_type": "markdown",
   "metadata": {},
   "source": [
    "### Список URL в csv конвертировать в set"
   ]
  },
  {
   "cell_type": "code",
   "execution_count": 11,
   "metadata": {},
   "outputs": [],
   "source": [
    "def get_url_set_from_project_csv_base(project_csv_base):\n",
    "    try:\n",
    "        project_base_url_set = set()\n",
    "        for row in project_csv_base:\n",
    "            project_base_url_set.add(row['url'])\n",
    "\n",
    "        return project_base_url_set\n",
    "    \n",
    "    except:\n",
    "        error_report()"
   ]
  },
  {
   "cell_type": "markdown",
   "metadata": {},
   "source": [
    "### Список URL в csv конвертировать в list"
   ]
  },
  {
   "cell_type": "code",
   "execution_count": 12,
   "metadata": {},
   "outputs": [],
   "source": [
    "def get_url_list_from_project_csv_base(project_csv_base):\n",
    "    try:\n",
    "        project_base_url_list = []\n",
    "        for row in project_csv_base:\n",
    "            project_base_url_list.append(row['url'])\n",
    "\n",
    "        return project_base_url_list\n",
    "    \n",
    "    except:\n",
    "        error_report()"
   ]
  },
  {
   "cell_type": "markdown",
   "metadata": {},
   "source": [
    "### Определение новых URL (есть в парсинге Sitemap, нет в CSV)"
   ]
  },
  {
   "cell_type": "code",
   "execution_count": 13,
   "metadata": {},
   "outputs": [],
   "source": [
    "def find_new_urls_and_set_status_in_csv(project_name, sitemap_url_list_set, project_base_url_list_set):\n",
    "    try:\n",
    "        project_csv_base = open_project_csv_base(project_name, project_name)\n",
    "        \n",
    "        in_sitemap_not_in_csv_base = sitemap_url_list_set - project_base_url_list_set\n",
    "        print(f'Количество новых URL (есть в SITEMAP, но нет в CSV базе): {len(in_sitemap_not_in_csv_base)}')\n",
    "    \n",
    "        if len(in_sitemap_not_in_csv_base) > 0:\n",
    "            for element in in_sitemap_not_in_csv_base:\n",
    "                new_dict = {}\n",
    "                new_dict['url'] = element\n",
    "                new_dict['status'] = 'NEW'\n",
    "                project_csv_base.append(new_dict)\n",
    "            \n",
    "            print('Экспорт','\\n')\n",
    "            export_csv_base = pd.DataFrame.from_dict(project_csv_base)        \n",
    "            export_csv_base.to_csv(PROJECT_CSV_BASE_PATH.format(project_name, project_name), index=False)\n",
    "            \n",
    "    except:\n",
    "        error_report()"
   ]
  },
  {
   "cell_type": "markdown",
   "metadata": {},
   "source": [
    "### Определение URL без изменений (есть в CSV, есть в Sitemap)"
   ]
  },
  {
   "cell_type": "code",
   "execution_count": 14,
   "metadata": {},
   "outputs": [],
   "source": [
    "def find_existing_urls_and_set_status_in_csv(project_name, sitemap_url_list_set, project_base_url_list_set):\n",
    "    try:      \n",
    "        project_csv_base = open_project_csv_base(project_name, project_name)\n",
    "        \n",
    "        in_sitemap_and_in_csv_base = sitemap_url_list_set.intersection(project_base_url_list_set)\n",
    "\n",
    "        print(f'Количество URL без изменений: {len(in_sitemap_and_in_csv_base)}')\n",
    "\n",
    "        for row in project_csv_base:\n",
    "            for url in in_sitemap_and_in_csv_base:\n",
    "                if row['url'] == url:\n",
    "                    row['status'] = 'UPDATED'\n",
    "        \n",
    "        print('Экспорт','\\n')\n",
    "        export_csv_base = pd.DataFrame.from_dict(project_csv_base)        \n",
    "        export_csv_base.to_csv(PROJECT_CSV_BASE_PATH.format(project_name, project_name), index=False)\n",
    "    \n",
    "    except:\n",
    "        error_report()"
   ]
  },
  {
   "cell_type": "markdown",
   "metadata": {},
   "source": [
    "### Определение удаленных URL (есть в CSV, нет в Sitemap)"
   ]
  },
  {
   "cell_type": "code",
   "execution_count": 15,
   "metadata": {},
   "outputs": [],
   "source": [
    "def find_deleted_urls_and_set_status_in_csv(project_name, sitemap_url_list_set, project_base_url_list_set):\n",
    "    try:  \n",
    "        project_csv_base = open_project_csv_base(project_name, project_name)\n",
    "        \n",
    "        in_csv_base_not_in_sitemap = project_base_url_list_set - sitemap_url_list_set\n",
    "\n",
    "        print(f'Количество удаленных с сайта URL (есть в CVS, нет в SITEMAP): {len(in_csv_base_not_in_sitemap)}')\n",
    "\n",
    "        if len(in_csv_base_not_in_sitemap) > 0:\n",
    "            for row in project_csv_base:\n",
    "                for url in in_csv_base_not_in_sitemap:\n",
    "                    if row['url'] == url:\n",
    "                        row['status'] = 'DELETED'\n",
    "            \n",
    "            print('Экспорт','\\n')\n",
    "            export_csv_base = pd.DataFrame.from_dict(project_csv_base)        \n",
    "            export_csv_base.to_csv(PROJECT_CSV_BASE_PATH.format(project_name, project_name), index=False)\n",
    "                        \n",
    "    except:\n",
    "        error_report()"
   ]
  },
  {
   "cell_type": "markdown",
   "metadata": {},
   "source": [
    "### Проверка и сопоставление URL в CSV c данными из Sitemap"
   ]
  },
  {
   "cell_type": "code",
   "execution_count": 16,
   "metadata": {},
   "outputs": [],
   "source": [
    "def set_status_in_project_csv_base(project_name, sitemap_url_list_set, project_base_url_list_set):\n",
    "    ### STATUS - NEW\n",
    "    csv_base_with_new_urls = find_new_urls_and_set_status_in_csv(project_name, \n",
    "                                                                 sitemap_url_list_set, \n",
    "                                                                 project_base_url_list_set)\n",
    "            \n",
    "    \n",
    "    ### STATUS - UPDATED\n",
    "    csv_base_with_updated_urls =  find_existing_urls_and_set_status_in_csv(project_name,\n",
    "                                                                           sitemap_url_list_set, \n",
    "                                                                           project_base_url_list_set)\n",
    "            \n",
    "    \n",
    "    ### STATUS - DELETED\n",
    "    csv_base_with_deleted_urls = find_deleted_urls_and_set_status_in_csv(project_name,\n",
    "                                                                         sitemap_url_list_set, \n",
    "                                                                         project_base_url_list_set)"
   ]
  },
  {
   "cell_type": "markdown",
   "metadata": {},
   "source": [
    "### Главная функция для актуализации CSV базы для проектов с одной картой"
   ]
  },
  {
   "cell_type": "code",
   "execution_count": 17,
   "metadata": {},
   "outputs": [],
   "source": [
    "def update_project_csv_base_one_map_main():\n",
    "    projects_one_map = get_projects_with_one_map()\n",
    "    projects_main_domain = projects_one_map[projects_one_map['domain_type'] == 'main'].to_dict('record')\n",
    "    \n",
    "    for project in projects_main_domain:\n",
    "        project_name, project_sitemap = project['project'], project['sitemap']\n",
    "        \n",
    "        print(project_name)\n",
    "        \n",
    "        print('Загрузка CSV базы')\n",
    "        project_csv_base = open_project_csv_base(project_name, project_name)\n",
    "        \n",
    "        print('Конвертация CSV базы в set')\n",
    "        project_base_url_set = get_url_set_from_project_csv_base(project_csv_base)\n",
    "        \n",
    "        print(f'Количество URL в CSV базе: {len(project_base_url_set)}','\\n')\n",
    "        \n",
    "        print('Парсинг SITEMAP и конвертация в set')\n",
    "        sitemap_url_set = parse_project_with_one_map(project_sitemap)\n",
    "        \n",
    "        print(f'Количество URL в SITEMAP: {len(sitemap_url_set)}','\\n')\n",
    "\n",
    "        print('Сопоставление имеющихся ранее данных с новыми')\n",
    "        set_status_in_project_csv_base(project_name, sitemap_url_set, project_base_url_set)\n",
    "        \n",
    "        print('\\n')"
   ]
  },
  {
   "cell_type": "markdown",
   "metadata": {},
   "source": [
    "### Главная функция для актуализации CSV базы для проектов с мультикартой"
   ]
  },
  {
   "cell_type": "code",
   "execution_count": 18,
   "metadata": {},
   "outputs": [],
   "source": [
    "def update_project_csv_base_many_maps_main():\n",
    "    projects_with_many_maps = get_projects_with_many_maps()\n",
    "    projects_main_domain = projects_with_many_maps[projects_with_many_maps['domain_type'] == 'main'].to_dict('record')\n",
    "    \n",
    "    for project in projects_main_domain:\n",
    "        \n",
    "        project_name, project_sitemap = project['project'], project['sitemap']\n",
    "        \n",
    "        print(project_name)\n",
    "        \n",
    "        print('Загрузка CSV базы')\n",
    "        project_csv_base = open_project_csv_base(project_name, project_name)\n",
    "        \n",
    "        print('Конвертация CSV базы в set')\n",
    "        project_base_url_set = get_url_set_from_project_csv_base(project_csv_base)\n",
    "        \n",
    "        print(f'Количество URL в CSV базе: {len(project_base_url_set)}','\\n')\n",
    "        \n",
    "        print('Парсинг SITEMAP и конвертация в set')\n",
    "        sitemap_url_set = parse_project_with_many_maps(project_sitemap)\n",
    "        \n",
    "        print(f'Количество URL в SITEMAP: {len(sitemap_url_set)}','\\n')\n",
    "\n",
    "        print('Сопоставление имеющихся ранее данных с новыми')\n",
    "        set_status_in_project_csv_base(project_name, sitemap_url_set, project_base_url_set)\n",
    "        print('\\n')"
   ]
  },
  {
   "cell_type": "markdown",
   "metadata": {},
   "source": [
    "## Отправка в IndexNow"
   ]
  },
  {
   "cell_type": "markdown",
   "metadata": {},
   "source": [
    "### Функция, отправляющая не более 10 тыс. URL"
   ]
  },
  {
   "cell_type": "code",
   "execution_count": 19,
   "metadata": {},
   "outputs": [],
   "source": [
    "def send_urls_index_now(host, key, main_domain, project_name, url_list):\n",
    "    status_code = 0\n",
    "    while status_code != 200:\n",
    "        data = {'host': f'{host}',\n",
    "                'key': f'{key}',\n",
    "                'keyLocation': f'https://{main_domain}/{project_name}_private_key_indexnow.txt',\n",
    "                'urlList': url_list\n",
    "               }\n",
    "        \n",
    "        #Уберите комменты, если нужно посмотреть, какие данные отправляются\n",
    "        #print(data['host'])\n",
    "        #print(data['key'])\n",
    "        #print(data['keyLocation'])\n",
    "        #print(data['urlList'])\n",
    "\n",
    "        request = requests.post(YANDEX_URL, json=data)\n",
    "        \n",
    "        status_code = request.status_code\n",
    "        \n",
    "        if status_code == 202:\n",
    "            print(f'Ответ {status_code}, ожидание....')\n",
    "            time.sleep(5)\n",
    "        \n",
    "        if status_code == 200:\n",
    "            print(f'IndexNow - количество отправленных страниц: {len(url_list)},'\n",
    "                  f' ответ: {status_code}','\\n')\n",
    "            return status_code\n",
    "            \n",
    "        if status_code > 202:\n",
    "            print(f'Ошибка - ответ {status_code}')\n",
    "            print(f'Причина {request.text}')\n",
    "            return status_code\n",
    "            break\n",
    "            "
   ]
  },
  {
   "cell_type": "markdown",
   "metadata": {},
   "source": [
    "### Функция, отпраляюшая более 10 тыс. URL"
   ]
  },
  {
   "cell_type": "code",
   "execution_count": 20,
   "metadata": {},
   "outputs": [],
   "source": [
    "def send_multiple_url_lists_index_now(project_name, project_key, url_list_from_project_csv_base):\n",
    "    step = 10000\n",
    "    end = len(url_list_from_project_csv_base)\n",
    "    start = 0\n",
    "    total_sent_page_quantity = 0\n",
    "    check_status_code = 0\n",
    "    for number in range(start, end, step):\n",
    "        \n",
    "        limited_url_list = url_list_from_project_csv_base[number:number+step]\n",
    "        \n",
    "        check_status_code = send_urls_index_now(host=project_name, \n",
    "                                                key=project_key, \n",
    "                                                main_domain=project_name, \n",
    "                                                project_name=project_name, \n",
    "                                                url_list=limited_url_list)\n",
    "                            \n",
    "        if check_status_code > 202:\n",
    "            return check_status_code\n",
    "            break\n",
    "        \n",
    "        total_sent_page_quantity += len(limited_url_list)\n",
    "        \n",
    "        start += step\n",
    "        \n",
    "    return check_status_code\n",
    "        \n",
    "    print(f'Общее количество отправленных страниц: {total_sent_page_quantity}','\\n')"
   ]
  },
  {
   "cell_type": "markdown",
   "metadata": {},
   "source": [
    "### Получение списка поддоменов"
   ]
  },
  {
   "cell_type": "code",
   "execution_count": 21,
   "metadata": {},
   "outputs": [],
   "source": [
    "def get_subdomain_list(projects_settings, project_name):\n",
    "    try:\n",
    "        projects_subdomain = projects_settings[(projects_settings['domain_type'] == 'subdomain')&\n",
    "                                              (projects_settings['main_domain_name'] == project_name)].to_dict('record')\n",
    "    \n",
    "        return projects_subdomain\n",
    "    \n",
    "    except:\n",
    "        error_report()"
   ]
  },
  {
   "cell_type": "markdown",
   "metadata": {},
   "source": [
    "### Генерация адресов для поддоменов из основного csv файла"
   ]
  },
  {
   "cell_type": "code",
   "execution_count": 22,
   "metadata": {},
   "outputs": [],
   "source": [
    "def generate_url_list_for_subdomains(project_domain, project_subdomain, url_list):\n",
    "    try:\n",
    "        new_url_list_with_subdomain_name = []\n",
    "        \n",
    "        for url in url_list:\n",
    "            new_url_list_with_subdomain_name.append(re.sub(project_domain, project_subdomain, url))\n",
    "            \n",
    "        return new_url_list_with_subdomain_name\n",
    "    \n",
    "    except:\n",
    "        error_report()"
   ]
  },
  {
   "cell_type": "markdown",
   "metadata": {},
   "source": [
    "### Процесс отправки страниц в IndexNow"
   ]
  },
  {
   "cell_type": "code",
   "execution_count": 23,
   "metadata": {},
   "outputs": [],
   "source": [
    "def send_urls_indexnow_algorithm(projects_settings, project_name, project_key, project_domain):\n",
    "    \n",
    "    print(f'Проект: {project_name}')\n",
    "    \n",
    "    project_subdomains_list = get_subdomain_list(projects_settings, project_name)\n",
    "    \n",
    "    print(f'Количество доменов: {len(project_subdomains_list)}')\n",
    "    \n",
    "    project_csv_base = open_project_csv_base(project_name, project_name)\n",
    "    \n",
    "    url_list_from_project_csv_base = get_url_list_from_project_csv_base(project_csv_base)\n",
    "    \n",
    "    print(f'Количество URL в базе: {len(url_list_from_project_csv_base)}','\\n')\n",
    "    \n",
    "    \n",
    "    if len(url_list_from_project_csv_base) < 10000:\n",
    "        try:\n",
    "            check_status_code = send_urls_index_now(host=project_name, \n",
    "                                                    key=project_key, \n",
    "                                                    main_domain=project_name, \n",
    "                                                    project_name=project_name, \n",
    "                                                    url_list=url_list_from_project_csv_base)\n",
    "\n",
    "\n",
    "            if check_status_code > 202:\n",
    "                print(f'Процесс для проекта {project_name} остановлен')\n",
    "\n",
    "            if check_status_code <= 202:\n",
    "\n",
    "                if len(project_subdomains_list) > 0:\n",
    "\n",
    "                        for row in project_subdomains_list:\n",
    "\n",
    "                            project_subdomain, subdomain_key = row['project'], row['key']\n",
    "\n",
    "                            print(f'Поддомен проекта: {project_subdomain}')\n",
    "\n",
    "                            new_url_list_with_subdomain_name = generate_url_list_for_subdomains(project_domain=project_name, \n",
    "                                                                                                project_subdomain=project_subdomain, \n",
    "                                                                                                url_list = url_list_from_project_csv_base)\n",
    "\n",
    "                            send_urls_index_now(host=project_subdomain, \n",
    "                                                key=subdomain_key,\n",
    "                                                main_domain=project_subdomain, \n",
    "                                                project_name=project_subdomain, \n",
    "                                                url_list=new_url_list_with_subdomain_name)\n",
    "                            \n",
    "        except:\n",
    "            error_report()\n",
    "\n",
    "                \n",
    "    if len(url_list_from_project_csv_base) > 10000:\n",
    "        try:\n",
    "            check_status_code = send_multiple_url_lists_index_now(project_name, \n",
    "                                                                  project_key, \n",
    "                                                                  url_list_from_project_csv_base)\n",
    "\n",
    "            if check_status_code > 202:\n",
    "                print(f'Процесс для проекта {project_name} остановлен')\n",
    "\n",
    "            if check_status_code <= 202:\n",
    "\n",
    "                if len(project_subdomains_list) > 0:\n",
    "                    \n",
    "                    for row in project_subdomains_list:\n",
    "                        \n",
    "                        project_subdomain, subdomain_key = row['project'], row['key']\n",
    "\n",
    "                        print(f'Поддомен проекта: {project_subdomain}')\n",
    "\n",
    "                        new_url_list_with_subdomain_name = generate_url_list_for_subdomains(project_domain=project_name, \n",
    "                                                                                            project_subdomain=project_subdomain,\n",
    "                                                                                            url_list = url_list_from_project_csv_base)\n",
    "\n",
    "                        send_multiple_url_lists_index_now(project_name,\n",
    "                                                          project_key,\n",
    "                                                          new_url_list_with_subdomain_name)\n",
    "        except:\n",
    "            error_report()\n",
    "                    "
   ]
  },
  {
   "cell_type": "markdown",
   "metadata": {},
   "source": [
    "### Удаление страниц 404 из CSV после завершения отправки в IndexNow"
   ]
  },
  {
   "cell_type": "code",
   "execution_count": 24,
   "metadata": {},
   "outputs": [],
   "source": [
    "def delete_404_pages_from_base(project_name):\n",
    "    try:\n",
    "        project_csv_base = pd.read_csv(PROJECT_CSV_BASE_PATH.format(project_name, project_name))\n",
    "        quantity404_pages = len(project_csv_base[project_csv_base['status'] == 'DELETED']['url'])\n",
    "        quantity_new_pages = len(project_csv_base[project_csv_base['status'] == 'NEW']['url'])\n",
    "        quantity_updated_pages = len(project_csv_base[project_csv_base['status'] == 'UPDATED']['url'])\n",
    "        print(f'Количество страниц NEW: {quantity_new_pages}')\n",
    "        print(f'Количество страниц UPDATED: {quantity_updated_pages}')\n",
    "        print(f'Количество страниц 404: {quantity404_pages}','\\n')\n",
    "        if quantity404_pages > 0:\n",
    "            project_csv_base.drop(project_csv_base[project_csv_base['status'] == 'DELETED'].index, inplace=True)\n",
    "            print(f'Удалено: {quantity404_pages}','\\n')\n",
    "            project_csv_base.to_csv(PROJECT_CSV_BASE_PATH.format(project_name, project_name),index=False)\n",
    "    except:\n",
    "        error_report()"
   ]
  },
  {
   "cell_type": "markdown",
   "metadata": {},
   "source": [
    "### Главная функция отправки в IndexNow для проектов с одной картой"
   ]
  },
  {
   "cell_type": "code",
   "execution_count": 25,
   "metadata": {},
   "outputs": [],
   "source": [
    "def send_project_one_map_to_indexnow_main(): \n",
    "    \n",
    "    projects_one_map = get_projects_with_one_map()\n",
    "    projects_main_domain = projects_one_map[projects_one_map['domain_type'] == 'main'].to_dict('record')\n",
    "    \n",
    "    for project in projects_main_domain:\n",
    "        project_name, project_key = project['project'], project['key']\n",
    "        \n",
    "        send_urls_indexnow_algorithm(projects_settings=projects_one_map, \n",
    "                                     project_name=project_name, \n",
    "                                     project_key=project_key, \n",
    "                                     project_domain=project_name)\n",
    "       \n",
    "        delete_404_pages_from_base(project_name)"
   ]
  },
  {
   "cell_type": "markdown",
   "metadata": {},
   "source": [
    "### Главная функция отправки в IndexNow для проектов с мульти картой"
   ]
  },
  {
   "cell_type": "code",
   "execution_count": 26,
   "metadata": {},
   "outputs": [],
   "source": [
    "def send_project_many_maps_to_indexnow_main(): \n",
    "    \n",
    "    projects_many_maps = get_projects_with_many_maps()\n",
    "    projects_main_domain = projects_many_maps[projects_many_maps['domain_type'] == 'main'].to_dict('record')\n",
    "    \n",
    "    for project in projects_main_domain:\n",
    "        project_name, project_key = project['project'], project['key']\n",
    "        \n",
    "        send_urls_indexnow_algorithm(projects_settings=projects_many_maps, \n",
    "                                     project_name=project_name, \n",
    "                                     project_key=project_key, \n",
    "                                     project_domain=project_name)\n",
    "        \n",
    "\n",
    "        delete_404_pages_from_base(project_name)"
   ]
  },
  {
   "cell_type": "markdown",
   "metadata": {},
   "source": [
    "## Запуск"
   ]
  },
  {
   "cell_type": "markdown",
   "metadata": {},
   "source": [
    "### Одна карта"
   ]
  },
  {
   "cell_type": "code",
   "execution_count": 27,
   "metadata": {
    "scrolled": false
   },
   "outputs": [
    {
     "name": "stderr",
     "output_type": "stream",
     "text": [
      "/Users/andreytryastsin/opt/anaconda3/lib/python3.7/site-packages/ipykernel_launcher.py:3: FutureWarning: Using short name for 'orient' is deprecated. Only the options: ('dict', list, 'series', 'split', 'records', 'index') will be used in a future version. Use one of the above to silence this warning.\n",
      "  This is separate from the ipykernel package so we can avoid doing imports until\n"
     ]
    },
    {
     "name": "stdout",
     "output_type": "stream",
     "text": [
      "big-bears.ru\n",
      "Загрузка CSV базы\n",
      "Конвертация CSV базы в set\n",
      "Количество URL в CSV базе: 115 \n",
      "\n",
      "Парсинг SITEMAP и конвертация в set\n",
      "Количество URL в SITEMAP: 115 \n",
      "\n",
      "Сопоставление имеющихся ранее данных с новыми\n",
      "Количество новых URL (есть в SITEMAP, но нет в CSV базе): 0\n",
      "Количество URL без изменений: 115\n",
      "Экспорт \n",
      "\n",
      "Количество удаленных с сайта URL (есть в CVS, нет в SITEMAP): 0\n",
      "\n",
      "\n",
      "skurala.ru\n",
      "Загрузка CSV базы\n",
      "Конвертация CSV базы в set\n",
      "Количество URL в CSV базе: 8014 \n",
      "\n",
      "Парсинг SITEMAP и конвертация в set\n",
      "Количество URL в SITEMAP: 8014 \n",
      "\n",
      "Сопоставление имеющихся ранее данных с новыми\n",
      "Количество новых URL (есть в SITEMAP, но нет в CSV базе): 0\n",
      "Количество URL без изменений: 8014\n",
      "Экспорт \n",
      "\n",
      "Количество удаленных с сайта URL (есть в CVS, нет в SITEMAP): 0\n",
      "\n",
      "\n",
      "megaposm.com\n",
      "Загрузка CSV базы\n",
      "Конвертация CSV базы в set\n",
      "Количество URL в CSV базе: 0 \n",
      "\n",
      "Парсинг SITEMAP и конвертация в set\n",
      "Количество URL в SITEMAP: 842 \n",
      "\n",
      "Сопоставление имеющихся ранее данных с новыми\n",
      "Количество новых URL (есть в SITEMAP, но нет в CSV базе): 842\n",
      "Экспорт \n",
      "\n",
      "Количество URL без изменений: 0\n",
      "Экспорт \n",
      "\n",
      "Количество удаленных с сайта URL (есть в CVS, нет в SITEMAP): 0\n",
      "\n",
      "\n",
      "certex.spb.ru\n",
      "Загрузка CSV базы\n",
      "Конвертация CSV базы в set\n",
      "Количество URL в CSV базе: 0 \n",
      "\n",
      "Парсинг SITEMAP и конвертация в set\n",
      "Количество URL в SITEMAP: 113 \n",
      "\n",
      "Сопоставление имеющихся ранее данных с новыми\n",
      "Количество новых URL (есть в SITEMAP, но нет в CSV базе): 113\n",
      "Экспорт \n",
      "\n",
      "Количество URL без изменений: 0\n",
      "Экспорт \n",
      "\n",
      "Количество удаленных с сайта URL (есть в CVS, нет в SITEMAP): 0\n",
      "\n",
      "\n",
      "flexfit.spb.ru\n",
      "Загрузка CSV базы\n",
      "Конвертация CSV базы в set\n",
      "Количество URL в CSV базе: 0 \n",
      "\n",
      "Парсинг SITEMAP и конвертация в set\n",
      "Количество URL в SITEMAP: 457 \n",
      "\n",
      "Сопоставление имеющихся ранее данных с новыми\n",
      "Количество новых URL (есть в SITEMAP, но нет в CSV базе): 457\n",
      "Экспорт \n",
      "\n",
      "Количество URL без изменений: 0\n",
      "Экспорт \n",
      "\n",
      "Количество удаленных с сайта URL (есть в CVS, нет в SITEMAP): 0\n",
      "\n",
      "\n",
      "frutoss.ru\n",
      "Загрузка CSV базы\n",
      "Конвертация CSV базы в set\n",
      "Количество URL в CSV базе: 0 \n",
      "\n",
      "Парсинг SITEMAP и конвертация в set\n",
      "Количество URL в SITEMAP: 1851 \n",
      "\n",
      "Сопоставление имеющихся ранее данных с новыми\n",
      "Количество новых URL (есть в SITEMAP, но нет в CSV базе): 1851\n",
      "Экспорт \n",
      "\n",
      "Количество URL без изменений: 0\n",
      "Экспорт \n",
      "\n",
      "Количество удаленных с сайта URL (есть в CVS, нет в SITEMAP): 0\n",
      "\n",
      "\n",
      "mentalshop.ru\n",
      "Загрузка CSV базы\n",
      "Конвертация CSV базы в set\n",
      "Количество URL в CSV базе: 0 \n",
      "\n",
      "Парсинг SITEMAP и конвертация в set\n",
      "Количество URL в SITEMAP: 1059 \n",
      "\n",
      "Сопоставление имеющихся ранее данных с новыми\n",
      "Количество новых URL (есть в SITEMAP, но нет в CSV базе): 1059\n",
      "Экспорт \n",
      "\n",
      "Количество URL без изменений: 0\n",
      "Экспорт \n",
      "\n",
      "Количество удаленных с сайта URL (есть в CVS, нет в SITEMAP): 0\n",
      "\n",
      "\n",
      "da-vita.ru\n",
      "Загрузка CSV базы\n",
      "Конвертация CSV базы в set\n",
      "Количество URL в CSV базе: 0 \n",
      "\n",
      "Парсинг SITEMAP и конвертация в set\n",
      "Количество URL в SITEMAP: 3858 \n",
      "\n",
      "Сопоставление имеющихся ранее данных с новыми\n",
      "Количество новых URL (есть в SITEMAP, но нет в CSV базе): 3858\n",
      "Экспорт \n",
      "\n",
      "Количество URL без изменений: 0\n",
      "Экспорт \n",
      "\n",
      "Количество удаленных с сайта URL (есть в CVS, нет в SITEMAP): 0\n",
      "\n",
      "\n",
      "inautospb.ru\n",
      "Загрузка CSV базы\n",
      "Конвертация CSV базы в set\n",
      "Количество URL в CSV базе: 0 \n",
      "\n",
      "Парсинг SITEMAP и конвертация в set\n",
      "Количество URL в SITEMAP: 799 \n",
      "\n",
      "Сопоставление имеющихся ранее данных с новыми\n",
      "Количество новых URL (есть в SITEMAP, но нет в CSV базе): 799\n",
      "Экспорт \n",
      "\n",
      "Количество URL без изменений: 0\n",
      "Экспорт \n",
      "\n",
      "Количество удаленных с сайта URL (есть в CVS, нет в SITEMAP): 0\n",
      "\n",
      "\n"
     ]
    }
   ],
   "source": [
    "update_project_csv_base_one_map_main()"
   ]
  },
  {
   "cell_type": "code",
   "execution_count": 28,
   "metadata": {
    "scrolled": false
   },
   "outputs": [],
   "source": [
    "#send_project_one_map_to_indexnow_main()"
   ]
  },
  {
   "cell_type": "markdown",
   "metadata": {},
   "source": [
    "### Мультикарта"
   ]
  },
  {
   "cell_type": "code",
   "execution_count": 29,
   "metadata": {},
   "outputs": [
    {
     "name": "stdout",
     "output_type": "stream",
     "text": [
      "kypishiny.ru\n",
      "Загрузка CSV базы\n",
      "Конвертация CSV базы в set\n",
      "Количество URL в CSV базе: 0 \n",
      "\n",
      "Парсинг SITEMAP и конвертация в set\n"
     ]
    },
    {
     "name": "stderr",
     "output_type": "stream",
     "text": [
      "/Users/andreytryastsin/opt/anaconda3/lib/python3.7/site-packages/ipykernel_launcher.py:3: FutureWarning: Using short name for 'orient' is deprecated. Only the options: ('dict', list, 'series', 'split', 'records', 'index') will be used in a future version. Use one of the above to silence this warning.\n",
      "  This is separate from the ipykernel package so we can avoid doing imports until\n"
     ]
    },
    {
     "name": "stdout",
     "output_type": "stream",
     "text": [
      "Количество карт: 4\n",
      "Карта №: 1\n",
      "https://kypishiny.ru/fx-sitemap/?part=0.1 200\n",
      "Количество URL: 9904\n",
      "Длина общего списка: 8735 URL\n",
      "Карта №: 2\n",
      "https://kypishiny.ru/fx-sitemap/?part=1 200\n",
      "Количество URL: 20000\n",
      "Длина общего списка: 28735 URL\n",
      "Карта №: 3\n",
      "https://kypishiny.ru/fx-sitemap/?part=2 200\n",
      "Количество URL: 20000\n",
      "Длина общего списка: 48735 URL\n",
      "Карта №: 4\n",
      "https://kypishiny.ru/fx-sitemap/?part=3 200\n",
      "Количество URL: 2280\n",
      "Длина общего списка: 51015 URL\n",
      "Количество URL в SITEMAP: 51015 \n",
      "\n",
      "Сопоставление имеющихся ранее данных с новыми\n",
      "Количество новых URL (есть в SITEMAP, но нет в CSV базе): 51015\n",
      "Экспорт \n",
      "\n",
      "Количество URL без изменений: 0\n",
      "Экспорт \n",
      "\n",
      "Количество удаленных с сайта URL (есть в CVS, нет в SITEMAP): 0\n",
      "\n",
      "\n",
      "elitewheels.ru\n",
      "Загрузка CSV базы\n",
      "Конвертация CSV базы в set\n",
      "Количество URL в CSV базе: 0 \n",
      "\n",
      "Парсинг SITEMAP и конвертация в set\n",
      "Количество карт: 8\n",
      "Карта №: 1\n",
      "https://elitewheels.ru/fx-sitemap?part=0.1 200\n",
      "Количество URL: 20000\n",
      "Длина общего списка: 19893 URL\n",
      "Карта №: 2\n",
      "https://elitewheels.ru/fx-sitemap?part=0.2 200\n",
      "Количество URL: 20000\n",
      "Длина общего списка: 39600 URL\n",
      "Карта №: 3\n",
      "https://elitewheels.ru/fx-sitemap?part=0.3 200\n",
      "Количество URL: 13161\n",
      "Длина общего списка: 52761 URL\n",
      "Карта №: 4\n",
      "https://elitewheels.ru/fx-sitemap?part=1 200\n",
      "Количество URL: 20000\n",
      "Длина общего списка: 72761 URL\n",
      "Карта №: 5\n",
      "https://elitewheels.ru/fx-sitemap?part=2 200\n",
      "Количество URL: 20000\n",
      "Длина общего списка: 92761 URL\n",
      "Карта №: 6\n",
      "https://elitewheels.ru/fx-sitemap?part=3 200\n",
      "Количество URL: 20000\n",
      "Длина общего списка: 112761 URL\n",
      "Карта №: 7\n",
      "https://elitewheels.ru/fx-sitemap?part=4 200\n",
      "Количество URL: 20000\n",
      "Длина общего списка: 132761 URL\n",
      "Карта №: 8\n",
      "https://elitewheels.ru/fx-sitemap?part=5 200\n",
      "Количество URL: 10351\n",
      "Длина общего списка: 143112 URL\n",
      "Количество URL в SITEMAP: 143112 \n",
      "\n",
      "Сопоставление имеющихся ранее данных с новыми\n",
      "Количество новых URL (есть в SITEMAP, но нет в CSV базе): 143112\n",
      "Экспорт \n",
      "\n",
      "Количество URL без изменений: 0\n",
      "Экспорт \n",
      "\n",
      "Количество удаленных с сайта URL (есть в CVS, нет в SITEMAP): 0\n",
      "\n",
      "\n",
      "www.kolesa-v-pitere.ru\n",
      "Загрузка CSV базы\n",
      "Конвертация CSV базы в set\n",
      "Количество URL в CSV базе: 0 \n",
      "\n",
      "Парсинг SITEMAP и конвертация в set\n",
      "Количество карт: 7\n",
      "Карта №: 1\n",
      "https://www.kolesa-v-pitere.ru/fx-sitemap?part=0.1 200\n",
      "Количество URL: 20000\n",
      "Длина общего списка: 20000 URL\n",
      "Карта №: 2\n",
      "https://www.kolesa-v-pitere.ru/fx-sitemap?part=0.2 200\n",
      "Количество URL: 20000\n",
      "Длина общего списка: 39979 URL\n",
      "Карта №: 3\n",
      "https://www.kolesa-v-pitere.ru/fx-sitemap?part=0.3 200\n",
      "Количество URL: 3822\n",
      "Длина общего списка: 43801 URL\n",
      "Карта №: 4\n",
      "https://www.kolesa-v-pitere.ru/fx-sitemap?part=1 200\n",
      "Количество URL: 20000\n",
      "Длина общего списка: 63801 URL\n",
      "Карта №: 5\n",
      "https://www.kolesa-v-pitere.ru/fx-sitemap?part=2 200\n",
      "Количество URL: 20000\n",
      "Длина общего списка: 83801 URL\n",
      "Карта №: 6\n",
      "https://www.kolesa-v-pitere.ru/fx-sitemap?part=3 200\n",
      "Количество URL: 20000\n",
      "Длина общего списка: 103801 URL\n",
      "Карта №: 7\n",
      "https://www.kolesa-v-pitere.ru/fx-sitemap?part=4 200\n",
      "Количество URL: 4909\n",
      "Длина общего списка: 108710 URL\n",
      "Количество URL в SITEMAP: 108710 \n",
      "\n",
      "Сопоставление имеющихся ранее данных с новыми\n",
      "Количество новых URL (есть в SITEMAP, но нет в CSV базе): 108710\n",
      "Экспорт \n",
      "\n",
      "Количество URL без изменений: 0\n",
      "Экспорт \n",
      "\n",
      "Количество удаленных с сайта URL (есть в CVS, нет в SITEMAP): 0\n",
      "\n",
      "\n",
      "guinot-salon.ru\n",
      "Загрузка CSV базы\n",
      "Конвертация CSV базы в set\n",
      "Количество URL в CSV базе: 0 \n",
      "\n",
      "Парсинг SITEMAP и конвертация в set\n",
      "Количество карт: 4\n",
      "Карта №: 1\n",
      "https://guinot-salon.ru/sitemap-files.xml 200\n",
      "Количество URL: 16\n",
      "Длина общего списка: 16 URL\n",
      "Карта №: 2\n",
      "https://guinot-salon.ru/sitemap-iblock-2.xml 200\n",
      "Количество URL: 49\n",
      "Длина общего списка: 64 URL\n",
      "Карта №: 3\n",
      "https://guinot-salon.ru/sitemap-iblock-19.xml 200\n",
      "Количество URL: 243\n",
      "Длина общего списка: 307 URL\n",
      "Карта №: 4\n",
      "https://guinot-salon.ru/sitemap-iblock-22.xml 200\n",
      "Количество URL: 167\n",
      "Длина общего списка: 473 URL\n",
      "Количество URL в SITEMAP: 473 \n",
      "\n",
      "Сопоставление имеющихся ранее данных с новыми\n",
      "Количество новых URL (есть в SITEMAP, но нет в CSV базе): 473\n",
      "Экспорт \n",
      "\n",
      "Количество URL без изменений: 0\n",
      "Экспорт \n",
      "\n",
      "Количество удаленных с сайта URL (есть в CVS, нет в SITEMAP): 0\n",
      "\n",
      "\n"
     ]
    }
   ],
   "source": [
    "update_project_csv_base_many_maps_main()"
   ]
  },
  {
   "cell_type": "code",
   "execution_count": 30,
   "metadata": {
    "scrolled": true
   },
   "outputs": [],
   "source": [
    "#send_project_many_maps_to_indexnow_main()"
   ]
  }
 ],
 "metadata": {
  "kernelspec": {
   "display_name": "Python 3",
   "language": "python",
   "name": "python3"
  },
  "language_info": {
   "codemirror_mode": {
    "name": "ipython",
    "version": 3
   },
   "file_extension": ".py",
   "mimetype": "text/x-python",
   "name": "python",
   "nbconvert_exporter": "python",
   "pygments_lexer": "ipython3",
   "version": "3.7.9"
  }
 },
 "nbformat": 4,
 "nbformat_minor": 4
}
